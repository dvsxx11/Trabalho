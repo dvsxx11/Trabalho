{
  "nbformat": 4,
  "nbformat_minor": 0,
  "metadata": {
    "colab": {
      "provenance": []
    },
    "kernelspec": {
      "name": "python3",
      "display_name": "Python 3"
    },
    "language_info": {
      "name": "python"
    }
  },
  "cells": [
    {
      "cell_type": "code",
      "source": [
        "from google.colab import drive\n",
        "drive.mount('/content/drive', force_remount=True)\n",
        "file_path = \"/content/drive/MyDrive/atividade3_dataset.csv\"\n",
        "import pandas as pd\n",
        "df = pd.read_csv(file_path, sep=\";\")"
      ],
      "metadata": {
        "colab": {
          "base_uri": "https://localhost:8080/"
        },
        "id": "W4xL-I47D039",
        "outputId": "7013e606-7de8-45f1-c383-7eb7e23a056a"
      },
      "execution_count": 10,
      "outputs": [
        {
          "output_type": "stream",
          "name": "stdout",
          "text": [
            "Mounted at /content/drive\n"
          ]
        }
      ]
    },
    {
      "cell_type": "code",
      "source": [
        "import pandas as pd\n",
        "import numpy as np\n",
        "import matplotlib.pyplot as plt\n",
        "import seaborn as sns\n",
        "from datetime import datetime\n"
      ],
      "metadata": {
        "id": "1nCfRm0BFjte"
      },
      "execution_count": null,
      "outputs": []
    },
    {
      "cell_type": "code",
      "source": [
        "plt.style.use('default')\n",
        "sns.set_palette(\"husl\")\n",
        "%matplotlib inline"
      ],
      "metadata": {
        "id": "l7cev4WaFm6j"
      },
      "execution_count": null,
      "outputs": []
    },
    {
      "cell_type": "markdown",
      "source": [
        "**1. Leitura e inspeção**\n"
      ],
      "metadata": {
        "id": "ttirx2v6F0ub"
      }
    },
    {
      "cell_type": "code",
      "source": [
        "import pandas as pd\n",
        "df.info()\n",
        "\n",
        "print(df.isnull().sum())\n",
        "\n",
        "print(\"Duplicados:\", df.duplicated().sum())"
      ],
      "metadata": {
        "colab": {
          "base_uri": "https://localhost:8080/"
        },
        "id": "MnAHl3tQFwyb",
        "outputId": "e30f9727-6d38-4b49-ee45-9818a72b5ebf",
        "collapsed": true
      },
      "execution_count": 11,
      "outputs": [
        {
          "output_type": "stream",
          "name": "stdout",
          "text": [
            "<class 'pandas.core.frame.DataFrame'>\n",
            "RangeIndex: 510 entries, 0 to 509\n",
            "Data columns (total 8 columns):\n",
            " #   Column       Non-Null Count  Dtype  \n",
            "---  ------       --------------  -----  \n",
            " 0   ID           510 non-null    int64  \n",
            " 1   Nome         510 non-null    object \n",
            " 2   Idade        489 non-null    float64\n",
            " 3   Cidade       510 non-null    object \n",
            " 4   Produto      510 non-null    object \n",
            " 5   Preço        473 non-null    object \n",
            " 6   Quantidade   510 non-null    int64  \n",
            " 7   Data_Compra  510 non-null    object \n",
            "dtypes: float64(1), int64(2), object(5)\n",
            "memory usage: 32.0+ KB\n",
            "ID              0\n",
            "Nome            0\n",
            "Idade          21\n",
            "Cidade          0\n",
            "Produto         0\n",
            "Preço          37\n",
            "Quantidade      0\n",
            "Data_Compra     0\n",
            "dtype: int64\n",
            "Duplicados: 8\n"
          ]
        }
      ]
    },
    {
      "cell_type": "markdown",
      "source": [
        "**2. Tratamento de valores ausentes:**\n",
        "\n"
      ],
      "metadata": {
        "id": "mjxxI2vwTiUp"
      }
    },
    {
      "cell_type": "markdown",
      "source": [
        "Idade: Preencher com mediana. Remover linhas poderia causaria perca de dados importantes."
      ],
      "metadata": {
        "id": "64UWb8YtZvoR"
      }
    },
    {
      "cell_type": "code",
      "source": [
        "idade_mediana = df['Idade'].median()\n",
        "df['Idade'].fillna(idade_mediana, inplace=True)\n",
        "print(f\"Idade nula preenchida com mediana: {idade_mediana}\")\n"
      ],
      "metadata": {
        "collapsed": true,
        "colab": {
          "base_uri": "https://localhost:8080/"
        },
        "id": "TqNdYUi_YPaX",
        "outputId": "934f7cc1-0d14-44ba-8b9b-577cf983b266"
      },
      "execution_count": 23,
      "outputs": [
        {
          "output_type": "stream",
          "name": "stdout",
          "text": [
            "Idade ausente preenchida com mediana: 44.0\n"
          ]
        },
        {
          "output_type": "stream",
          "name": "stderr",
          "text": [
            "/tmp/ipython-input-1009141209.py:2: FutureWarning: A value is trying to be set on a copy of a DataFrame or Series through chained assignment using an inplace method.\n",
            "The behavior will change in pandas 3.0. This inplace method will never work because the intermediate object on which we are setting values always behaves as a copy.\n",
            "\n",
            "For example, when doing 'df[col].method(value, inplace=True)', try using 'df.method({col: value}, inplace=True)' or df[col] = df[col].method(value) instead, to perform the operation inplace on the original object.\n",
            "\n",
            "\n",
            "  df['Idade'].fillna(idade_mediana, inplace=True)\n"
          ]
        }
      ]
    },
    {
      "cell_type": "markdown",
      "source": [
        "Cidade: Preencher com moda. A moda representa a cidade mais comum"
      ],
      "metadata": {
        "id": "O_HDkQYRZl4_"
      }
    },
    {
      "cell_type": "code",
      "source": [
        "cidade_moda = df['Cidade'].mode()[0]\n",
        "df['Cidade'].fillna(cidade_moda, inplace=True)\n",
        "print(f\"Cidade nula preenchida com moda: {cidade_moda}\")\n"
      ],
      "metadata": {
        "id": "rec8UbvaHDdT",
        "colab": {
          "base_uri": "https://localhost:8080/"
        },
        "collapsed": true,
        "outputId": "192e91e9-6937-4496-f3c5-55eca7ff4ac9"
      },
      "execution_count": 28,
      "outputs": [
        {
          "output_type": "stream",
          "name": "stdout",
          "text": [
            "Cidade nula preenchida com moda: PORTO ALEGRE\n"
          ]
        },
        {
          "output_type": "stream",
          "name": "stderr",
          "text": [
            "/tmp/ipython-input-1032869182.py:2: FutureWarning: A value is trying to be set on a copy of a DataFrame or Series through chained assignment using an inplace method.\n",
            "The behavior will change in pandas 3.0. This inplace method will never work because the intermediate object on which we are setting values always behaves as a copy.\n",
            "\n",
            "For example, when doing 'df[col].method(value, inplace=True)', try using 'df.method({col: value}, inplace=True)' or df[col] = df[col].method(value) instead, to perform the operation inplace on the original object.\n",
            "\n",
            "\n",
            "  df['Cidade'].fillna(cidade_moda, inplace=True)\n"
          ]
        }
      ]
    },
    {
      "cell_type": "markdown",
      "source": [
        "Preço: Preencher com mediana. Mantém a distribuição natural dos preços por tipo de produto\n",
        "\n"
      ],
      "metadata": {
        "id": "BkBfHr5rZPuz"
      }
    },
    {
      "cell_type": "code",
      "source": [
        "preco_por_produto = df.groupby('Produto')['Preço'].transform('median')\n",
        "df['Preço'] = df['Preço'].fillna(preco_por_produto)\n",
        "print(\"Preços nulos preenchidos com mediana\")"
      ],
      "metadata": {
        "id": "9-BrCcMMGZ7p",
        "colab": {
          "base_uri": "https://localhost:8080/"
        },
        "outputId": "60d6997c-153f-4764-a4df-069cab671a59"
      },
      "execution_count": 27,
      "outputs": [
        {
          "output_type": "stream",
          "name": "stdout",
          "text": [
            "Preços nulos preenchidos com mediana\n"
          ]
        }
      ]
    },
    {
      "cell_type": "markdown",
      "source": [
        "**3. Detecção e remoção de duplicados**\n"
      ],
      "metadata": {
        "id": "UUZs39AIalbD"
      }
    },
    {
      "cell_type": "code",
      "source": [
        "duplicados = df.duplicated().sum()\n",
        "print(f\"Linhas duplicadas: {duplicados}\")"
      ],
      "metadata": {
        "colab": {
          "base_uri": "https://localhost:8080/"
        },
        "collapsed": true,
        "id": "r5RIP14Ban9n",
        "outputId": "877f6326-3170-4bff-856a-b98cb3d11ac9"
      },
      "execution_count": 30,
      "outputs": [
        {
          "output_type": "stream",
          "name": "stdout",
          "text": [
            "Linhas duplicadas: 9\n"
          ]
        }
      ]
    },
    {
      "cell_type": "code",
      "source": [
        "df = df.drop_duplicates()\n",
        "duplicados_restantes = df.duplicated().sum()\n",
        "print(f\"Duplicados restantes: {duplicados_restantes}\")"
      ],
      "metadata": {
        "colab": {
          "base_uri": "https://localhost:8080/"
        },
        "collapsed": true,
        "id": "Afog7GWbbM8h",
        "outputId": "7eaeeda1-8006-49f4-d204-20f577c531ef"
      },
      "execution_count": 33,
      "outputs": [
        {
          "output_type": "stream",
          "name": "stdout",
          "text": [
            "Duplicados restantes: 0\n"
          ]
        }
      ]
    },
    {
      "cell_type": "markdown",
      "source": [
        "**4. Correções adicionais**"
      ],
      "metadata": {
        "id": "jIDlaJy2bZEx"
      }
    },
    {
      "cell_type": "code",
      "source": [
        "df['Cidade'] = df['Cidade'].str.upper().str.strip()\n",
        "print(\"Cidades após padronização:\")\n",
        "print(df['Cidade'].value_counts())"
      ],
      "metadata": {
        "colab": {
          "base_uri": "https://localhost:8080/"
        },
        "collapsed": true,
        "id": "sqjpIWMcbgIO",
        "outputId": "327ac936-a578-4982-d3a6-8a9bb327b4fc"
      },
      "execution_count": 41,
      "outputs": [
        {
          "output_type": "stream",
          "name": "stdout",
          "text": [
            "Cidades após padronização:\n",
            "Cidade\n",
            "PORTO ALEGRE      76\n",
            "SALVADOR          67\n",
            "BELO HORIZONTE    65\n",
            "CURITIBA          62\n",
            "MANAUS            61\n",
            "RIO DE JANEIRO    61\n",
            "FORTALEZA         60\n",
            "SÃO PAULO         49\n",
            "Name: count, dtype: int64\n"
          ]
        }
      ]
    },
    {
      "cell_type": "code",
      "source": [
        "df['Idade'] = df['Idade'].astype(int)\n",
        "print(f\"Idades convertidas: {df['Idade'].iloc[0]} (tipo: {df['Idade'].dtype})\")\n",
        "\n",
        "df['Quantidade'] = df['Quantidade'].astype(int)\n",
        "print(f\"Quantidades conertidas: {df['Quantidade'].iloc[0]} (tipo: {df['Quantidade'].dtype})\")\n",
        "\n",
        "df['ID'] = df['ID'].astype(int)\n",
        "print(f\"ID convertido: {df['ID'].iloc[0]} (tipo: {df['ID'].dtype})\")\n"
      ],
      "metadata": {
        "colab": {
          "base_uri": "https://localhost:8080/"
        },
        "collapsed": true,
        "id": "flCixuLzcHme",
        "outputId": "36b44176-bfe7-4b3f-f203-39851c295b10"
      },
      "execution_count": 53,
      "outputs": [
        {
          "output_type": "stream",
          "name": "stdout",
          "text": [
            "Idades convertidas: 48 (tipo: int64)\n",
            "Quantidades conertidas: 7 (tipo: int64)\n",
            "ID convertido: 1 (tipo: int64)\n"
          ]
        }
      ]
    },
    {
      "cell_type": "markdown",
      "source": [
        "**5. Exploração inicial após limpeza**"
      ],
      "metadata": {
        "id": "Pl-m0qwBfE4Q"
      }
    },
    {
      "cell_type": "code",
      "source": [
        "print(f\"Idade:\")\n",
        "print(f\"  Média: {df['Idade'].mean():.1f} anos\")\n",
        "print(f\"  Mediana: {df['Idade'].median():.1f} anos\")\n",
        "print(f\"  Desvio Padrão: {df['Idade'].std():.1f} anos\")\n",
        "\n",
        "print(f\"\\nPreço:\")\n",
        "print(f\"  Média: R$ {df['Preço'].mean():.2f}\")\n",
        "print(f\"  Mediana: R$ {df['Preço'].median():.2f}\")\n",
        "print(f\"  Desvio Padrão: R$ {df['Preço'].std():.2f}\")\n",
        "\n",
        "print(f\"\\nQuantidade:\")\n",
        "print(f\"  Média: {df['Quantidade'].mean():.1f}\")\n",
        "print(f\"  Mediana: {df['Quantidade'].median():.1f}\")\n",
        "print(f\"  Desvio Padrão: {df['Quantidade'].std():.1f}\")"
      ],
      "metadata": {
        "colab": {
          "base_uri": "https://localhost:8080/"
        },
        "collapsed": true,
        "id": "hDsziZpsfHYY",
        "outputId": "050af26a-60e5-4280-e7d2-e8e85afc9829"
      },
      "execution_count": 55,
      "outputs": [
        {
          "output_type": "stream",
          "name": "stdout",
          "text": [
            "Idade:\n",
            "  Média: 44.3 anos\n",
            "  Mediana: 44.0 anos\n",
            "  Desvio Padrão: 15.0 anos\n",
            "\n",
            "Preço:\n",
            "  Média: R$ 3097.72\n",
            "  Mediana: R$ 2802.13\n",
            "  Desvio Padrão: R$ 3658.34\n",
            "\n",
            "Quantidade:\n",
            "  Média: 5.8\n",
            "  Mediana: 6.0\n",
            "  Desvio Padrão: 2.9\n"
          ]
        }
      ]
    },
    {
      "cell_type": "code",
      "source": [
        "import matplotlib.pyplot as plt\n",
        "import seaborn as sns\n",
        "\n",
        "plt.figure(figsize=(12, 5))\n",
        "\n",
        "plt.subplot(1, 2, 1)\n",
        "plt.hist(df['Preço'], bins=20, color='lightcoral', edgecolor='black', alpha=0.7)\n",
        "plt.title('Distribuição de Preços')\n",
        "plt.xlabel('Preço (R$)')\n",
        "plt.ylabel('Frequência')\n",
        "\n",

        "plt.subplot(1, 2, 2)\n",
        "plt.scatter(df['Idade'], df['Preço'], alpha=0.6, color='steelblue')\n",
        "plt.title('Relação: Idade vs Preço')\n",
        "plt.xlabel('Idade (anos)')\n",
        "plt.ylabel('Preço (R$)')\n",
        "\n",
        "plt.tight_layout()\n",
        "plt.show()"
      ],
      "metadata": {
        "colab": {
          "base_uri": "https://localhost:8080/",
          "height": 507
        },
        "id": "KbxtDNSpfnKD",
        "outputId": "cac03801-4554-4feb-b1a2-d9d2e52d2e80"
      },
      "execution_count": 57,
      "outputs": [
        {
          "output_type": "display_data",
          "data": {
            "text/plain": [
              "<Figure size 1200x500 with 2 Axes>"
            ],
            "image/png": "[encoded data removed]"
          },
          "metadata": {}
        }
      ]
    }
  ]
}
